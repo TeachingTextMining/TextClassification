{
  "cells": [
    {
      "cell_type": "markdown",
      "metadata": {
        "colab_type": "text",
        "id": "view-in-github"
      },
      "source": [
        "<a href=\"https://colab.research.google.com/github/TeachingTextMining/TextClassification/blob/main/06-SA-AutoGOAL/06.1.1-TextClassification-with-AutoGOAL_plusSaveModel.ipynb\" target=\"_parent\"><img src=\"https://colab.research.google.com/assets/colab-badge.svg\" alt=\"Open In Colab\"/></a>"
      ]
    },
    {
      "cell_type": "markdown",
      "metadata": {
        "id": "76GWp3TtCltu"
      },
      "source": [
        "## Clasificación de textos utilizando AutoML\n",
        "\n",
        "\n",
        "La clasificación de textos consiste en, dado un texto, asignarle una entre varias categorías. Algunos ejemplos de esta tarea son:\n",
        "\n",
        "- dado un tweet, categorizar su connotación como positiva, negativa o neutra.\n",
        "- dado un post de Facebook, clasificarlo como portador de un lenguaje ofensivo o no.  \n",
        "\n",
        "En la actividad exploraremos cómo utilizar soluciones *out of the box* para esta tarea incluidas en la librería [AutoGOAL](https://github.com/autogoal/autogoal) y su aplicación para clasificar reviews de [IMDB](https://www.imdb.com/) sobre películas en las categorías \\[$positive$, $negative$\\]. \n",
        "\n",
        "\n",
        "\n",
        "**Instrucciones:**\n",
        "\n",
        "- siga las indicaciones y comentarios en cada apartado.\n",
        "\n",
        "\n",
        "**Después de esta actividad nos habremos familiarizado con:**\n",
        "- cómo modelar un problema de clasificación con AutoGOAL\n",
        "- cómo utilizar AutoGOAL para buscar automáticamente un *pipeline* para clasificación de textos.\n",
        "- utilizar este *pipeline* para clasificar nuevos textos.\n",
        "\n",
        "**Requerimientos**\n",
        "- python ^3.9.13\n",
        "- autogoal==1.0.3\n",
        "- autogoal-contrib==0.8.4\n",
        "- autogoal-sklearn==0.8.4\n",
        "- autogoal-nltk==0.8.4\n",
        "- pandas==1.1.5\n",
        "- plotly==4.13.0\n",
        "- tqdm==4.56.0\n",
        "\n"
      ]
    },
    {
      "cell_type": "markdown",
      "metadata": {
        "id": "qs8-IuHAWhw2"
      },
      "source": [
        "<a name=\"sec:setup\"></a>\n",
        "### Instalación de librerías e importación de dependencias.\n",
        "\n",
        "Para comenzar, es preciso instalar e incluir las librerías necesarias. En este caso, el entorno de Colab incluye las necesarias.\n",
        "\n",
        "Ejecute la siguiente casilla prestando atención a las explicaciones dadas en los comentarios."
      ]
    },
    {
      "cell_type": "code",
      "execution_count": 14,
      "metadata": {
        "id": "Lxub5L7JWiIl"
      },
      "outputs": [],
      "source": [
        "%%capture\n",
        "# instalar librerías. Esta casilla es últil por ejemplo si se ejecuta el cuaderno en Google Colab\n",
        "# Note que existen otras dependencias como tensorflow, etc. que en este caso se encontrarían ya instaladas\n",
        "%pip install  autogoal==1.0.3 autogoal-contrib==0.8.4 autogoal-sklearn==0.8.4 autogoal-nltk==0.8.4\n",
        "%pip install plotly==4.13.0 pandas==1.1.5 \n",
        "\n",
        "print('Done!')"
      ]
    },
    {
      "cell_type": "code",
      "execution_count": 15,
      "metadata": {
        "id": "ga7lVYFMCltv"
      },
      "outputs": [
        {
          "name": "stdout",
          "output_type": "stream",
          "text": [
            "Done!\n"
          ]
        }
      ],
      "source": [
        "# reset environment\n",
        "%reset -f\n",
        "\n",
        "#  para construir gráficas y realizar análisis exploratorio de los datos\n",
        "import plotly.graph_objects as go\n",
        "import plotly.figure_factory as ff\n",
        "import plotly.express as px\n",
        "\n",
        "# para cargar datos y realizar pre-procesamiento básico\n",
        "import pandas as pd\n",
        "from collections import Counter\n",
        "from sklearn.feature_extraction.text import TfidfVectorizer\n",
        "from sklearn.preprocessing import LabelEncoder\n",
        "\n",
        "\n",
        "# para evaluar los modelos \n",
        "from sklearn.model_selection import train_test_split\n",
        "from sklearn.metrics import accuracy_score, classification_report, confusion_matrix, roc_curve, auc, f1_score\n",
        "from sklearn.utils.multiclass import unique_labels\n",
        "\n",
        "# para configurar AutoGOAL\n",
        "from autogoal.ml import AutoML\n",
        "from autogoal.search import (Logger, PESearch, ConsoleLogger, ProgressLogger, MemoryLogger)\n",
        "from autogoal.kb import MatrixContinuousDense, VectorCategorical, Supervised\n",
        "from autogoal_contrib import find_classes\n",
        "\n",
        "# para guardar el modelo\n",
        "import pickle\n",
        "import datetime\n",
        "\n",
        "print('Done!')"
      ]
    },
    {
      "cell_type": "markdown",
      "metadata": {
        "id": "zvCAcoPfntwB"
      },
      "source": [
        "#### Definición de funciones y variables necesarias para el pre-procesamiento de datos\n",
        "\n",
        "Antes de definir el pipeline definiremos algunas variables útiles como el listado de stop words y funciones para cargar los datos, entrenar el modelo etc."
      ]
    },
    {
      "cell_type": "code",
      "execution_count": 16,
      "metadata": {
        "id": "4jvtD8EWoA-p"
      },
      "outputs": [
        {
          "name": "stdout",
          "output_type": "stream",
          "text": [
            "Done!\n"
          ]
        }
      ],
      "source": [
        "# función auxiliar para realizar predicciones con el modelo\n",
        "def predict_model(model, cfg, data, pref='m'):\n",
        "  \"\"\"\n",
        "  data: list of the text to predict\n",
        "  pref: identificador para las columnas (labels_[pref], scores_[pref]_[class 1], etc.)\n",
        "  \"\"\"\n",
        "  res = {}\n",
        "  scores = None\n",
        "\n",
        "  data_tfidf = cfg['vectorizer'].transform(data)\n",
        "  data_tfidf = data_tfidf.todense()\n",
        "  labels = model.predict(data_tfidf)\n",
        "\n",
        "  if hasattr(model, 'predict_proba'):\n",
        "    scores = model.predict_proba(data_tfidf)\n",
        "  \n",
        "    # empaquetar scores dentro de un diccionario que contiene labels, scores clase 1, scores clase 2, .... El nombre de la clase se normaliza a lowercase\n",
        "    res = {f'scores_{pref}_{cls.lower()}':score for cls, score in zip(model.classes_, [col for col in scores.T])}\n",
        "\n",
        "  # añadir datos relativos a la predicción\n",
        "  res[f'labels_{pref}'] = cfg['label_encoder'].inverse_transform(labels)\n",
        "\n",
        "  # convertir a dataframe ordenando las columnas primero el label y luego los scores por clase, las clases ordenadas alfabeticamente.\n",
        "  res = pd.DataFrame(res, columns=sorted(list(res.keys())))\n",
        "\n",
        "  return res\n",
        "\n",
        "\n",
        "# función auxiliar que evalúa los resultados de una clasificación\n",
        "def evaluate_model(y_true, y_pred, y_score=None, pos_label='positive'):\n",
        "  \"\"\"\n",
        "  data: list of the text to predict\n",
        "  pref: identificador para las columnas (labels_[pref], scores_[pref]_[class 1], etc.)\n",
        "  \"\"\"\n",
        "  print('==== Sumario de la clasificación ==== ')\n",
        "  print(classification_report(y_true, y_pred))\n",
        "\n",
        "  print('Accuracy -> {:.2%}\\n'.format(accuracy_score(y_true, y_pred)))\n",
        "\n",
        "  # graficar matriz de confusión\n",
        "  display_labels = sorted(unique_labels(y_true, y_pred), reverse=True)\n",
        "  cm = confusion_matrix(y_true, y_pred, labels=display_labels)\n",
        "\n",
        "  z = cm[::-1]\n",
        "  x = display_labels\n",
        "  y =  x[::-1].copy()\n",
        "  z_text = [[str(y) for y in x] for x in z]\n",
        "\n",
        "  fig_cm = ff.create_annotated_heatmap(z, x=x, y=y, annotation_text=z_text, colorscale='Viridis')\n",
        "\n",
        "  fig_cm.update_layout(\n",
        "      height=400, width=400,\n",
        "      showlegend=True,\n",
        "      margin={'t':150, 'l':0},\n",
        "      title={'text' : 'Matriz de Confusión', 'x':0.5, 'xanchor': 'center'},\n",
        "      xaxis = {'title_text':'Valor Real', 'tickangle':45, 'side':'top'},\n",
        "      yaxis = {'title_text':'Valor Predicho', 'tickmode':'linear'},\n",
        "  )\n",
        "  fig_cm.show()\n",
        "\n",
        "\n",
        "  # curva roc (definido para clasificación binaria)\n",
        "  fig_roc = None\n",
        "  if y_score is not None:\n",
        "    fpr, tpr, thresholds = roc_curve(y_true, y_score, pos_label=pos_label)\n",
        "    fig_roc = px.area(\n",
        "        x=fpr, y=tpr,\n",
        "        title = f'Curva ROC (AUC={auc(fpr, tpr):.4f})',\n",
        "        labels=dict(x='Ratio Falsos Positivos', y='Ratio Verdaderos Positivos'),\n",
        "        width=400, height=400\n",
        "    )\n",
        "    fig_roc.add_shape(type='line', line=dict(dash='dash'), x0=0, x1=1, y0=0, y1=1)\n",
        "\n",
        "    fig_roc.update_yaxes(scaleanchor=\"x\", scaleratio=1)\n",
        "    fig_roc.update_xaxes(constrain='domain')\n",
        "    \n",
        "    fig_roc.show()\n",
        "\n",
        "\n",
        "# custom logger\n",
        "# - imprime y guarda el mejor pipeline cada vez que se encuentre una nueva solución candidad\n",
        "# - imprime pipelines cuya evaluación falló\n",
        "class CustomLogger(Logger):\n",
        "    def __init__(self, classifier, save_model=True, check_folder=\".\"):\n",
        "        self.save_model = save_model\n",
        "        self.check_folder = check_folder\n",
        "        self.classifier = classifier\n",
        "\n",
        "    def error(self, e: Exception, solution):\n",
        "        if e and solution:\n",
        "            with open(\"reviews_errors.log\", \"a\") as fp:\n",
        "                fp.write(f\"solution={repr(solution)}\\nerror={repr(e)}\\n\\n\")\n",
        "\n",
        "    def update_best(\n",
        "        self,\n",
        "        solution,\n",
        "        fn,\n",
        "        new_best_solutions,\n",
        "        best_solutions,\n",
        "        new_best_fns,\n",
        "        best_fns,\n",
        "        new_dominated_solutions,\n",
        "    ):\n",
        "        pipecode = datetime.datetime.now(datetime.timezone.utc).strftime(\"reviews--%Y-%m-%d--%H-%M-%S--{0}\".format(hex(id(solution))))\n",
        "        with open(\"reviews_update_best.log\", \"a\") as fp:\n",
        "            fp.write(f\"\\n{pipecode}\\nsolution={repr(solution)}\\nfitness={fn}\\n\\n\")\n",
        "\n",
        "        if(self.save_model):\n",
        "            fp = open('{1}.pkl'.format(self.check_folder,pipecode), 'wb')\n",
        "            solution.sampler_.replay().save(fp)\n",
        "            pickle.Pickler(fp).dump((self.classifier.input, self.classifier.output))\n",
        "            fp.close()\n",
        "\n",
        "print('Done!')"
      ]
    },
    {
      "cell_type": "markdown",
      "metadata": {
        "id": "Me0P5d8PoHFo"
      },
      "source": [
        "<a name=\"sec:load-data\"></a>\n",
        "### Carga de datos y análisis exploratorio\n",
        "\n",
        "Antes de entrenar el pipeline, es necesario cargar los datos. Existen diferentes opciones, entre estas:\n",
        "\n",
        "- montar nuestra partición de Google Drive y leer un fichero desde esta.\n",
        "\n",
        "- leer los datos desde un fichero en una carpeta local.\n",
        "\n",
        "- leer los datos directamente de un URL.\n",
        "\n",
        "Ejecute la siguiente casilla prestando atención a las instrucciones adicionales en los comentarios.\n"
      ]
    },
    {
      "cell_type": "code",
      "execution_count": 17,
      "metadata": {
        "id": "Tg6pvcsVoHZ4"
      },
      "outputs": [
        {
          "name": "stdout",
          "output_type": "stream",
          "text": [
            "Done!\n"
          ]
        }
      ],
      "source": [
        "# descomente las siguientes 3 líneas para leer datos desde Google Drive, asumiendo que se trata de un fichero llamado review.csv localizado dentro de una carpeta llamada 'Datos' en su Google Drive\n",
        "#from google.colab import drive\n",
        "#drive.mount('/content/drive')\n",
        "#path = '/content/drive/MyDrive/Datos/ejemplo_review_train.csv'\n",
        "\n",
        "# descomente la siguiente línea para leer los datos desde un archivo local, por ejemplo, asumiendo que se encuentra dentro de un directorio llamado sample_data\n",
        "#path = './sample_data/ejemplo_review_train.csv'\n",
        "\n",
        "# descomente la siguiente línea para leer datos desde un URL\n",
        "path = 'https://github.com/TeachingTextMining/TextClassification/raw/main/06-SA-AutoGOAL/sample_data/ejemplo_review_train.csv'\n",
        "\n",
        "# leer los datos\n",
        "data = pd.read_csv(path, sep=',')\n",
        "\n",
        "print('Done!')"
      ]
    },
    {
      "cell_type": "markdown",
      "metadata": {
        "id": "suEnoVDuoMvZ"
      },
      "source": [
        "Una vez leídos los datos, ejecute la siguiente casilla para construir una gráfica que muestra la distribución de clases en el corpus. "
      ]
    },
    {
      "cell_type": "code",
      "execution_count": 18,
      "metadata": {
        "id": "UQG6uQTNoNIY"
      },
      "outputs": [
        {
          "name": "stdout",
          "output_type": "stream",
          "text": [
            "Total de instancias -> 1763\n",
            "Distribución de clases -> {item[0]:round(item[1]/len(data[class_col]), 3) for item in sorted(hist.items(), key=lambda x: x[0])}\n",
            "Categorías -> ['negative', 'positive']\n",
            "Comentario de ejemplo -> This is a great movie that everyone should see. It plays like a Dean Koontz book.<br /><br />Bill Paxton's performance was great in that it really seems like he believes in what he is saying and doing.<br /><br />I don't know why viewers have to read in some kind of advocacy for religious murder in to the film. It is fiction. The ending is surprising, but fictional. So what? I think that is what makes this movie so good. SPOILER DO NOT READ FURTHER IF YOU HAVENT SEEN THE MOVIE. Throughout the movie, the viewer is continually shocked at the sickness of Paxton's character, the impact on the children, and the way the children handle this outrageous conduct. And then at the end, it turns out to be true. God has put him on a mission to rid the world of demons. Paxton is not clairvoyant as other viewers suggest. Sure, he is given info that he couldn't have known otherwise, but the movie goes further to show how God is \"protecting\" Adam through the convenient video quality problem and the complete lack of memory of the second FBI agent. The film isn't advocating Christian murder, it is merely taking the viewer on a very unexpected ride.\n",
            "Categoría del comentario -> positive\n"
          ]
        },
        {
          "data": {
            "application/vnd.plotly.v1+json": {
              "config": {
                "plotlyServerURL": "https://plot.ly"
              },
              "data": [
                {
                  "type": "bar",
                  "x": [
                    "negative",
                    "positive"
                  ],
                  "y": [
                    901,
                    862
                  ]
                }
              ],
              "layout": {
                "height": 400,
                "template": {
                  "data": {
                    "bar": [
                      {
                        "error_x": {
                          "color": "#2a3f5f"
                        },
                        "error_y": {
                          "color": "#2a3f5f"
                        },
                        "marker": {
                          "line": {
                            "color": "#E5ECF6",
                            "width": 0.5
                          },
                          "pattern": {
                            "fillmode": "overlay",
                            "size": 10,
                            "solidity": 0.2
                          }
                        },
                        "type": "bar"
                      }
                    ],
                    "barpolar": [
                      {
                        "marker": {
                          "line": {
                            "color": "#E5ECF6",
                            "width": 0.5
                          },
                          "pattern": {
                            "fillmode": "overlay",
                            "size": 10,
                            "solidity": 0.2
                          }
                        },
                        "type": "barpolar"
                      }
                    ],
                    "carpet": [
                      {
                        "aaxis": {
                          "endlinecolor": "#2a3f5f",
                          "gridcolor": "white",
                          "linecolor": "white",
                          "minorgridcolor": "white",
                          "startlinecolor": "#2a3f5f"
                        },
                        "baxis": {
                          "endlinecolor": "#2a3f5f",
                          "gridcolor": "white",
                          "linecolor": "white",
                          "minorgridcolor": "white",
                          "startlinecolor": "#2a3f5f"
                        },
                        "type": "carpet"
                      }
                    ],
                    "choropleth": [
                      {
                        "colorbar": {
                          "outlinewidth": 0,
                          "ticks": ""
                        },
                        "type": "choropleth"
                      }
                    ],
                    "contour": [
                      {
                        "colorbar": {
                          "outlinewidth": 0,
                          "ticks": ""
                        },
                        "colorscale": [
                          [
                            0,
                            "#0d0887"
                          ],
                          [
                            0.1111111111111111,
                            "#46039f"
                          ],
                          [
                            0.2222222222222222,
                            "#7201a8"
                          ],
                          [
                            0.3333333333333333,
                            "#9c179e"
                          ],
                          [
                            0.4444444444444444,
                            "#bd3786"
                          ],
                          [
                            0.5555555555555556,
                            "#d8576b"
                          ],
                          [
                            0.6666666666666666,
                            "#ed7953"
                          ],
                          [
                            0.7777777777777778,
                            "#fb9f3a"
                          ],
                          [
                            0.8888888888888888,
                            "#fdca26"
                          ],
                          [
                            1,
                            "#f0f921"
                          ]
                        ],
                        "type": "contour"
                      }
                    ],
                    "contourcarpet": [
                      {
                        "colorbar": {
                          "outlinewidth": 0,
                          "ticks": ""
                        },
                        "type": "contourcarpet"
                      }
                    ],
                    "heatmap": [
                      {
                        "colorbar": {
                          "outlinewidth": 0,
                          "ticks": ""
                        },
                        "colorscale": [
                          [
                            0,
                            "#0d0887"
                          ],
                          [
                            0.1111111111111111,
                            "#46039f"
                          ],
                          [
                            0.2222222222222222,
                            "#7201a8"
                          ],
                          [
                            0.3333333333333333,
                            "#9c179e"
                          ],
                          [
                            0.4444444444444444,
                            "#bd3786"
                          ],
                          [
                            0.5555555555555556,
                            "#d8576b"
                          ],
                          [
                            0.6666666666666666,
                            "#ed7953"
                          ],
                          [
                            0.7777777777777778,
                            "#fb9f3a"
                          ],
                          [
                            0.8888888888888888,
                            "#fdca26"
                          ],
                          [
                            1,
                            "#f0f921"
                          ]
                        ],
                        "type": "heatmap"
                      }
                    ],
                    "heatmapgl": [
                      {
                        "colorbar": {
                          "outlinewidth": 0,
                          "ticks": ""
                        },
                        "colorscale": [
                          [
                            0,
                            "#0d0887"
                          ],
                          [
                            0.1111111111111111,
                            "#46039f"
                          ],
                          [
                            0.2222222222222222,
                            "#7201a8"
                          ],
                          [
                            0.3333333333333333,
                            "#9c179e"
                          ],
                          [
                            0.4444444444444444,
                            "#bd3786"
                          ],
                          [
                            0.5555555555555556,
                            "#d8576b"
                          ],
                          [
                            0.6666666666666666,
                            "#ed7953"
                          ],
                          [
                            0.7777777777777778,
                            "#fb9f3a"
                          ],
                          [
                            0.8888888888888888,
                            "#fdca26"
                          ],
                          [
                            1,
                            "#f0f921"
                          ]
                        ],
                        "type": "heatmapgl"
                      }
                    ],
                    "histogram": [
                      {
                        "marker": {
                          "pattern": {
                            "fillmode": "overlay",
                            "size": 10,
                            "solidity": 0.2
                          }
                        },
                        "type": "histogram"
                      }
                    ],
                    "histogram2d": [
                      {
                        "colorbar": {
                          "outlinewidth": 0,
                          "ticks": ""
                        },
                        "colorscale": [
                          [
                            0,
                            "#0d0887"
                          ],
                          [
                            0.1111111111111111,
                            "#46039f"
                          ],
                          [
                            0.2222222222222222,
                            "#7201a8"
                          ],
                          [
                            0.3333333333333333,
                            "#9c179e"
                          ],
                          [
                            0.4444444444444444,
                            "#bd3786"
                          ],
                          [
                            0.5555555555555556,
                            "#d8576b"
                          ],
                          [
                            0.6666666666666666,
                            "#ed7953"
                          ],
                          [
                            0.7777777777777778,
                            "#fb9f3a"
                          ],
                          [
                            0.8888888888888888,
                            "#fdca26"
                          ],
                          [
                            1,
                            "#f0f921"
                          ]
                        ],
                        "type": "histogram2d"
                      }
                    ],
                    "histogram2dcontour": [
                      {
                        "colorbar": {
                          "outlinewidth": 0,
                          "ticks": ""
                        },
                        "colorscale": [
                          [
                            0,
                            "#0d0887"
                          ],
                          [
                            0.1111111111111111,
                            "#46039f"
                          ],
                          [
                            0.2222222222222222,
                            "#7201a8"
                          ],
                          [
                            0.3333333333333333,
                            "#9c179e"
                          ],
                          [
                            0.4444444444444444,
                            "#bd3786"
                          ],
                          [
                            0.5555555555555556,
                            "#d8576b"
                          ],
                          [
                            0.6666666666666666,
                            "#ed7953"
                          ],
                          [
                            0.7777777777777778,
                            "#fb9f3a"
                          ],
                          [
                            0.8888888888888888,
                            "#fdca26"
                          ],
                          [
                            1,
                            "#f0f921"
                          ]
                        ],
                        "type": "histogram2dcontour"
                      }
                    ],
                    "mesh3d": [
                      {
                        "colorbar": {
                          "outlinewidth": 0,
                          "ticks": ""
                        },
                        "type": "mesh3d"
                      }
                    ],
                    "parcoords": [
                      {
                        "line": {
                          "colorbar": {
                            "outlinewidth": 0,
                            "ticks": ""
                          }
                        },
                        "type": "parcoords"
                      }
                    ],
                    "pie": [
                      {
                        "automargin": true,
                        "type": "pie"
                      }
                    ],
                    "scatter": [
                      {
                        "fillpattern": {
                          "fillmode": "overlay",
                          "size": 10,
                          "solidity": 0.2
                        },
                        "type": "scatter"
                      }
                    ],
                    "scatter3d": [
                      {
                        "line": {
                          "colorbar": {
                            "outlinewidth": 0,
                            "ticks": ""
                          }
                        },
                        "marker": {
                          "colorbar": {
                            "outlinewidth": 0,
                            "ticks": ""
                          }
                        },
                        "type": "scatter3d"
                      }
                    ],
                    "scattercarpet": [
                      {
                        "marker": {
                          "colorbar": {
                            "outlinewidth": 0,
                            "ticks": ""
                          }
                        },
                        "type": "scattercarpet"
                      }
                    ],
                    "scattergeo": [
                      {
                        "marker": {
                          "colorbar": {
                            "outlinewidth": 0,
                            "ticks": ""
                          }
                        },
                        "type": "scattergeo"
                      }
                    ],
                    "scattergl": [
                      {
                        "marker": {
                          "colorbar": {
                            "outlinewidth": 0,
                            "ticks": ""
                          }
                        },
                        "type": "scattergl"
                      }
                    ],
                    "scattermapbox": [
                      {
                        "marker": {
                          "colorbar": {
                            "outlinewidth": 0,
                            "ticks": ""
                          }
                        },
                        "type": "scattermapbox"
                      }
                    ],
                    "scatterpolar": [
                      {
                        "marker": {
                          "colorbar": {
                            "outlinewidth": 0,
                            "ticks": ""
                          }
                        },
                        "type": "scatterpolar"
                      }
                    ],
                    "scatterpolargl": [
                      {
                        "marker": {
                          "colorbar": {
                            "outlinewidth": 0,
                            "ticks": ""
                          }
                        },
                        "type": "scatterpolargl"
                      }
                    ],
                    "scatterternary": [
                      {
                        "marker": {
                          "colorbar": {
                            "outlinewidth": 0,
                            "ticks": ""
                          }
                        },
                        "type": "scatterternary"
                      }
                    ],
                    "surface": [
                      {
                        "colorbar": {
                          "outlinewidth": 0,
                          "ticks": ""
                        },
                        "colorscale": [
                          [
                            0,
                            "#0d0887"
                          ],
                          [
                            0.1111111111111111,
                            "#46039f"
                          ],
                          [
                            0.2222222222222222,
                            "#7201a8"
                          ],
                          [
                            0.3333333333333333,
                            "#9c179e"
                          ],
                          [
                            0.4444444444444444,
                            "#bd3786"
                          ],
                          [
                            0.5555555555555556,
                            "#d8576b"
                          ],
                          [
                            0.6666666666666666,
                            "#ed7953"
                          ],
                          [
                            0.7777777777777778,
                            "#fb9f3a"
                          ],
                          [
                            0.8888888888888888,
                            "#fdca26"
                          ],
                          [
                            1,
                            "#f0f921"
                          ]
                        ],
                        "type": "surface"
                      }
                    ],
                    "table": [
                      {
                        "cells": {
                          "fill": {
                            "color": "#EBF0F8"
                          },
                          "line": {
                            "color": "white"
                          }
                        },
                        "header": {
                          "fill": {
                            "color": "#C8D4E3"
                          },
                          "line": {
                            "color": "white"
                          }
                        },
                        "type": "table"
                      }
                    ]
                  },
                  "layout": {
                    "annotationdefaults": {
                      "arrowcolor": "#2a3f5f",
                      "arrowhead": 0,
                      "arrowwidth": 1
                    },
                    "autotypenumbers": "strict",
                    "coloraxis": {
                      "colorbar": {
                        "outlinewidth": 0,
                        "ticks": ""
                      }
                    },
                    "colorscale": {
                      "diverging": [
                        [
                          0,
                          "#8e0152"
                        ],
                        [
                          0.1,
                          "#c51b7d"
                        ],
                        [
                          0.2,
                          "#de77ae"
                        ],
                        [
                          0.3,
                          "#f1b6da"
                        ],
                        [
                          0.4,
                          "#fde0ef"
                        ],
                        [
                          0.5,
                          "#f7f7f7"
                        ],
                        [
                          0.6,
                          "#e6f5d0"
                        ],
                        [
                          0.7,
                          "#b8e186"
                        ],
                        [
                          0.8,
                          "#7fbc41"
                        ],
                        [
                          0.9,
                          "#4d9221"
                        ],
                        [
                          1,
                          "#276419"
                        ]
                      ],
                      "sequential": [
                        [
                          0,
                          "#0d0887"
                        ],
                        [
                          0.1111111111111111,
                          "#46039f"
                        ],
                        [
                          0.2222222222222222,
                          "#7201a8"
                        ],
                        [
                          0.3333333333333333,
                          "#9c179e"
                        ],
                        [
                          0.4444444444444444,
                          "#bd3786"
                        ],
                        [
                          0.5555555555555556,
                          "#d8576b"
                        ],
                        [
                          0.6666666666666666,
                          "#ed7953"
                        ],
                        [
                          0.7777777777777778,
                          "#fb9f3a"
                        ],
                        [
                          0.8888888888888888,
                          "#fdca26"
                        ],
                        [
                          1,
                          "#f0f921"
                        ]
                      ],
                      "sequentialminus": [
                        [
                          0,
                          "#0d0887"
                        ],
                        [
                          0.1111111111111111,
                          "#46039f"
                        ],
                        [
                          0.2222222222222222,
                          "#7201a8"
                        ],
                        [
                          0.3333333333333333,
                          "#9c179e"
                        ],
                        [
                          0.4444444444444444,
                          "#bd3786"
                        ],
                        [
                          0.5555555555555556,
                          "#d8576b"
                        ],
                        [
                          0.6666666666666666,
                          "#ed7953"
                        ],
                        [
                          0.7777777777777778,
                          "#fb9f3a"
                        ],
                        [
                          0.8888888888888888,
                          "#fdca26"
                        ],
                        [
                          1,
                          "#f0f921"
                        ]
                      ]
                    },
                    "colorway": [
                      "#636efa",
                      "#EF553B",
                      "#00cc96",
                      "#ab63fa",
                      "#FFA15A",
                      "#19d3f3",
                      "#FF6692",
                      "#B6E880",
                      "#FF97FF",
                      "#FECB52"
                    ],
                    "font": {
                      "color": "#2a3f5f"
                    },
                    "geo": {
                      "bgcolor": "white",
                      "lakecolor": "white",
                      "landcolor": "#E5ECF6",
                      "showlakes": true,
                      "showland": true,
                      "subunitcolor": "white"
                    },
                    "hoverlabel": {
                      "align": "left"
                    },
                    "hovermode": "closest",
                    "mapbox": {
                      "style": "light"
                    },
                    "paper_bgcolor": "white",
                    "plot_bgcolor": "#E5ECF6",
                    "polar": {
                      "angularaxis": {
                        "gridcolor": "white",
                        "linecolor": "white",
                        "ticks": ""
                      },
                      "bgcolor": "#E5ECF6",
                      "radialaxis": {
                        "gridcolor": "white",
                        "linecolor": "white",
                        "ticks": ""
                      }
                    },
                    "scene": {
                      "xaxis": {
                        "backgroundcolor": "#E5ECF6",
                        "gridcolor": "white",
                        "gridwidth": 2,
                        "linecolor": "white",
                        "showbackground": true,
                        "ticks": "",
                        "zerolinecolor": "white"
                      },
                      "yaxis": {
                        "backgroundcolor": "#E5ECF6",
                        "gridcolor": "white",
                        "gridwidth": 2,
                        "linecolor": "white",
                        "showbackground": true,
                        "ticks": "",
                        "zerolinecolor": "white"
                      },
                      "zaxis": {
                        "backgroundcolor": "#E5ECF6",
                        "gridcolor": "white",
                        "gridwidth": 2,
                        "linecolor": "white",
                        "showbackground": true,
                        "ticks": "",
                        "zerolinecolor": "white"
                      }
                    },
                    "shapedefaults": {
                      "line": {
                        "color": "#2a3f5f"
                      }
                    },
                    "ternary": {
                      "aaxis": {
                        "gridcolor": "white",
                        "linecolor": "white",
                        "ticks": ""
                      },
                      "baxis": {
                        "gridcolor": "white",
                        "linecolor": "white",
                        "ticks": ""
                      },
                      "bgcolor": "#E5ECF6",
                      "caxis": {
                        "gridcolor": "white",
                        "linecolor": "white",
                        "ticks": ""
                      }
                    },
                    "title": {
                      "x": 0.05
                    },
                    "xaxis": {
                      "automargin": true,
                      "gridcolor": "white",
                      "linecolor": "white",
                      "ticks": "",
                      "title": {
                        "standoff": 15
                      },
                      "zerolinecolor": "white",
                      "zerolinewidth": 2
                    },
                    "yaxis": {
                      "automargin": true,
                      "gridcolor": "white",
                      "linecolor": "white",
                      "ticks": "",
                      "title": {
                        "standoff": 15
                      },
                      "zerolinecolor": "white",
                      "zerolinewidth": 2
                    }
                  }
                },
                "width": 600
              }
            },
            "text/html": [
              "<div>                            <div id=\"9d94fa05-9495-4be4-acda-fe2abd593fe4\" class=\"plotly-graph-div\" style=\"height:400px; width:600px;\"></div>            <script type=\"text/javascript\">                require([\"plotly\"], function(Plotly) {                    window.PLOTLYENV=window.PLOTLYENV || {};                                    if (document.getElementById(\"9d94fa05-9495-4be4-acda-fe2abd593fe4\")) {                    Plotly.newPlot(                        \"9d94fa05-9495-4be4-acda-fe2abd593fe4\",                        [{\"x\":[\"negative\",\"positive\"],\"y\":[901,862],\"type\":\"bar\"}],                        {\"height\":400,\"width\":600,\"template\":{\"data\":{\"histogram2dcontour\":[{\"type\":\"histogram2dcontour\",\"colorbar\":{\"outlinewidth\":0,\"ticks\":\"\"},\"colorscale\":[[0.0,\"#0d0887\"],[0.1111111111111111,\"#46039f\"],[0.2222222222222222,\"#7201a8\"],[0.3333333333333333,\"#9c179e\"],[0.4444444444444444,\"#bd3786\"],[0.5555555555555556,\"#d8576b\"],[0.6666666666666666,\"#ed7953\"],[0.7777777777777778,\"#fb9f3a\"],[0.8888888888888888,\"#fdca26\"],[1.0,\"#f0f921\"]]}],\"choropleth\":[{\"type\":\"choropleth\",\"colorbar\":{\"outlinewidth\":0,\"ticks\":\"\"}}],\"histogram2d\":[{\"type\":\"histogram2d\",\"colorbar\":{\"outlinewidth\":0,\"ticks\":\"\"},\"colorscale\":[[0.0,\"#0d0887\"],[0.1111111111111111,\"#46039f\"],[0.2222222222222222,\"#7201a8\"],[0.3333333333333333,\"#9c179e\"],[0.4444444444444444,\"#bd3786\"],[0.5555555555555556,\"#d8576b\"],[0.6666666666666666,\"#ed7953\"],[0.7777777777777778,\"#fb9f3a\"],[0.8888888888888888,\"#fdca26\"],[1.0,\"#f0f921\"]]}],\"heatmap\":[{\"type\":\"heatmap\",\"colorbar\":{\"outlinewidth\":0,\"ticks\":\"\"},\"colorscale\":[[0.0,\"#0d0887\"],[0.1111111111111111,\"#46039f\"],[0.2222222222222222,\"#7201a8\"],[0.3333333333333333,\"#9c179e\"],[0.4444444444444444,\"#bd3786\"],[0.5555555555555556,\"#d8576b\"],[0.6666666666666666,\"#ed7953\"],[0.7777777777777778,\"#fb9f3a\"],[0.8888888888888888,\"#fdca26\"],[1.0,\"#f0f921\"]]}],\"heatmapgl\":[{\"type\":\"heatmapgl\",\"colorbar\":{\"outlinewidth\":0,\"ticks\":\"\"},\"colorscale\":[[0.0,\"#0d0887\"],[0.1111111111111111,\"#46039f\"],[0.2222222222222222,\"#7201a8\"],[0.3333333333333333,\"#9c179e\"],[0.4444444444444444,\"#bd3786\"],[0.5555555555555556,\"#d8576b\"],[0.6666666666666666,\"#ed7953\"],[0.7777777777777778,\"#fb9f3a\"],[0.8888888888888888,\"#fdca26\"],[1.0,\"#f0f921\"]]}],\"contourcarpet\":[{\"type\":\"contourcarpet\",\"colorbar\":{\"outlinewidth\":0,\"ticks\":\"\"}}],\"contour\":[{\"type\":\"contour\",\"colorbar\":{\"outlinewidth\":0,\"ticks\":\"\"},\"colorscale\":[[0.0,\"#0d0887\"],[0.1111111111111111,\"#46039f\"],[0.2222222222222222,\"#7201a8\"],[0.3333333333333333,\"#9c179e\"],[0.4444444444444444,\"#bd3786\"],[0.5555555555555556,\"#d8576b\"],[0.6666666666666666,\"#ed7953\"],[0.7777777777777778,\"#fb9f3a\"],[0.8888888888888888,\"#fdca26\"],[1.0,\"#f0f921\"]]}],\"surface\":[{\"type\":\"surface\",\"colorbar\":{\"outlinewidth\":0,\"ticks\":\"\"},\"colorscale\":[[0.0,\"#0d0887\"],[0.1111111111111111,\"#46039f\"],[0.2222222222222222,\"#7201a8\"],[0.3333333333333333,\"#9c179e\"],[0.4444444444444444,\"#bd3786\"],[0.5555555555555556,\"#d8576b\"],[0.6666666666666666,\"#ed7953\"],[0.7777777777777778,\"#fb9f3a\"],[0.8888888888888888,\"#fdca26\"],[1.0,\"#f0f921\"]]}],\"mesh3d\":[{\"type\":\"mesh3d\",\"colorbar\":{\"outlinewidth\":0,\"ticks\":\"\"}}],\"scatter\":[{\"fillpattern\":{\"fillmode\":\"overlay\",\"size\":10,\"solidity\":0.2},\"type\":\"scatter\"}],\"parcoords\":[{\"type\":\"parcoords\",\"line\":{\"colorbar\":{\"outlinewidth\":0,\"ticks\":\"\"}}}],\"scatterpolargl\":[{\"type\":\"scatterpolargl\",\"marker\":{\"colorbar\":{\"outlinewidth\":0,\"ticks\":\"\"}}}],\"bar\":[{\"error_x\":{\"color\":\"#2a3f5f\"},\"error_y\":{\"color\":\"#2a3f5f\"},\"marker\":{\"line\":{\"color\":\"#E5ECF6\",\"width\":0.5},\"pattern\":{\"fillmode\":\"overlay\",\"size\":10,\"solidity\":0.2}},\"type\":\"bar\"}],\"scattergeo\":[{\"type\":\"scattergeo\",\"marker\":{\"colorbar\":{\"outlinewidth\":0,\"ticks\":\"\"}}}],\"scatterpolar\":[{\"type\":\"scatterpolar\",\"marker\":{\"colorbar\":{\"outlinewidth\":0,\"ticks\":\"\"}}}],\"histogram\":[{\"marker\":{\"pattern\":{\"fillmode\":\"overlay\",\"size\":10,\"solidity\":0.2}},\"type\":\"histogram\"}],\"scattergl\":[{\"type\":\"scattergl\",\"marker\":{\"colorbar\":{\"outlinewidth\":0,\"ticks\":\"\"}}}],\"scatter3d\":[{\"type\":\"scatter3d\",\"line\":{\"colorbar\":{\"outlinewidth\":0,\"ticks\":\"\"}},\"marker\":{\"colorbar\":{\"outlinewidth\":0,\"ticks\":\"\"}}}],\"scattermapbox\":[{\"type\":\"scattermapbox\",\"marker\":{\"colorbar\":{\"outlinewidth\":0,\"ticks\":\"\"}}}],\"scatterternary\":[{\"type\":\"scatterternary\",\"marker\":{\"colorbar\":{\"outlinewidth\":0,\"ticks\":\"\"}}}],\"scattercarpet\":[{\"type\":\"scattercarpet\",\"marker\":{\"colorbar\":{\"outlinewidth\":0,\"ticks\":\"\"}}}],\"carpet\":[{\"aaxis\":{\"endlinecolor\":\"#2a3f5f\",\"gridcolor\":\"white\",\"linecolor\":\"white\",\"minorgridcolor\":\"white\",\"startlinecolor\":\"#2a3f5f\"},\"baxis\":{\"endlinecolor\":\"#2a3f5f\",\"gridcolor\":\"white\",\"linecolor\":\"white\",\"minorgridcolor\":\"white\",\"startlinecolor\":\"#2a3f5f\"},\"type\":\"carpet\"}],\"table\":[{\"cells\":{\"fill\":{\"color\":\"#EBF0F8\"},\"line\":{\"color\":\"white\"}},\"header\":{\"fill\":{\"color\":\"#C8D4E3\"},\"line\":{\"color\":\"white\"}},\"type\":\"table\"}],\"barpolar\":[{\"marker\":{\"line\":{\"color\":\"#E5ECF6\",\"width\":0.5},\"pattern\":{\"fillmode\":\"overlay\",\"size\":10,\"solidity\":0.2}},\"type\":\"barpolar\"}],\"pie\":[{\"automargin\":true,\"type\":\"pie\"}]},\"layout\":{\"autotypenumbers\":\"strict\",\"colorway\":[\"#636efa\",\"#EF553B\",\"#00cc96\",\"#ab63fa\",\"#FFA15A\",\"#19d3f3\",\"#FF6692\",\"#B6E880\",\"#FF97FF\",\"#FECB52\"],\"font\":{\"color\":\"#2a3f5f\"},\"hovermode\":\"closest\",\"hoverlabel\":{\"align\":\"left\"},\"paper_bgcolor\":\"white\",\"plot_bgcolor\":\"#E5ECF6\",\"polar\":{\"bgcolor\":\"#E5ECF6\",\"angularaxis\":{\"gridcolor\":\"white\",\"linecolor\":\"white\",\"ticks\":\"\"},\"radialaxis\":{\"gridcolor\":\"white\",\"linecolor\":\"white\",\"ticks\":\"\"}},\"ternary\":{\"bgcolor\":\"#E5ECF6\",\"aaxis\":{\"gridcolor\":\"white\",\"linecolor\":\"white\",\"ticks\":\"\"},\"baxis\":{\"gridcolor\":\"white\",\"linecolor\":\"white\",\"ticks\":\"\"},\"caxis\":{\"gridcolor\":\"white\",\"linecolor\":\"white\",\"ticks\":\"\"}},\"coloraxis\":{\"colorbar\":{\"outlinewidth\":0,\"ticks\":\"\"}},\"colorscale\":{\"sequential\":[[0.0,\"#0d0887\"],[0.1111111111111111,\"#46039f\"],[0.2222222222222222,\"#7201a8\"],[0.3333333333333333,\"#9c179e\"],[0.4444444444444444,\"#bd3786\"],[0.5555555555555556,\"#d8576b\"],[0.6666666666666666,\"#ed7953\"],[0.7777777777777778,\"#fb9f3a\"],[0.8888888888888888,\"#fdca26\"],[1.0,\"#f0f921\"]],\"sequentialminus\":[[0.0,\"#0d0887\"],[0.1111111111111111,\"#46039f\"],[0.2222222222222222,\"#7201a8\"],[0.3333333333333333,\"#9c179e\"],[0.4444444444444444,\"#bd3786\"],[0.5555555555555556,\"#d8576b\"],[0.6666666666666666,\"#ed7953\"],[0.7777777777777778,\"#fb9f3a\"],[0.8888888888888888,\"#fdca26\"],[1.0,\"#f0f921\"]],\"diverging\":[[0,\"#8e0152\"],[0.1,\"#c51b7d\"],[0.2,\"#de77ae\"],[0.3,\"#f1b6da\"],[0.4,\"#fde0ef\"],[0.5,\"#f7f7f7\"],[0.6,\"#e6f5d0\"],[0.7,\"#b8e186\"],[0.8,\"#7fbc41\"],[0.9,\"#4d9221\"],[1,\"#276419\"]]},\"xaxis\":{\"gridcolor\":\"white\",\"linecolor\":\"white\",\"ticks\":\"\",\"title\":{\"standoff\":15},\"zerolinecolor\":\"white\",\"automargin\":true,\"zerolinewidth\":2},\"yaxis\":{\"gridcolor\":\"white\",\"linecolor\":\"white\",\"ticks\":\"\",\"title\":{\"standoff\":15},\"zerolinecolor\":\"white\",\"automargin\":true,\"zerolinewidth\":2},\"scene\":{\"xaxis\":{\"backgroundcolor\":\"#E5ECF6\",\"gridcolor\":\"white\",\"linecolor\":\"white\",\"showbackground\":true,\"ticks\":\"\",\"zerolinecolor\":\"white\",\"gridwidth\":2},\"yaxis\":{\"backgroundcolor\":\"#E5ECF6\",\"gridcolor\":\"white\",\"linecolor\":\"white\",\"showbackground\":true,\"ticks\":\"\",\"zerolinecolor\":\"white\",\"gridwidth\":2},\"zaxis\":{\"backgroundcolor\":\"#E5ECF6\",\"gridcolor\":\"white\",\"linecolor\":\"white\",\"showbackground\":true,\"ticks\":\"\",\"zerolinecolor\":\"white\",\"gridwidth\":2}},\"shapedefaults\":{\"line\":{\"color\":\"#2a3f5f\"}},\"annotationdefaults\":{\"arrowcolor\":\"#2a3f5f\",\"arrowhead\":0,\"arrowwidth\":1},\"geo\":{\"bgcolor\":\"white\",\"landcolor\":\"#E5ECF6\",\"subunitcolor\":\"white\",\"showland\":true,\"showlakes\":true,\"lakecolor\":\"white\"},\"title\":{\"x\":0.05},\"mapbox\":{\"style\":\"light\"}}}},                        {\"responsive\": true}                    ).then(function(){\n",
              "                            \n",
              "var gd = document.getElementById('9d94fa05-9495-4be4-acda-fe2abd593fe4');\n",
              "var x = new MutationObserver(function (mutations, observer) {{\n",
              "        var display = window.getComputedStyle(gd).display;\n",
              "        if (!display || display === 'none') {{\n",
              "            console.log([gd, 'removed!']);\n",
              "            Plotly.purge(gd);\n",
              "            observer.disconnect();\n",
              "        }}\n",
              "}});\n",
              "\n",
              "// Listen for the removal of the full notebook cells\n",
              "var notebookContainer = gd.closest('#notebook-container');\n",
              "if (notebookContainer) {{\n",
              "    x.observe(notebookContainer, {childList: true});\n",
              "}}\n",
              "\n",
              "// Listen for the clearing of the current output cell\n",
              "var outputEl = gd.closest('.output');\n",
              "if (outputEl) {{\n",
              "    x.observe(outputEl, {childList: true});\n",
              "}}\n",
              "\n",
              "                        })                };                });            </script>        </div>"
            ]
          },
          "metadata": {},
          "output_type": "display_data"
        },
        {
          "name": "stdout",
          "output_type": "stream",
          "text": [
            "Done!\n"
          ]
        }
      ],
      "source": [
        "text_col = 'Phrase'  # columna del dataframe que contiene el texto (depende del formato de los datos)\n",
        "class_col = 'Sentiment'  # columna del dataframe que contiene la clase (depende del formato de los datos)\n",
        "\n",
        "# obtener algunas estadísticas sobre los datos\n",
        "categories = sorted(data[class_col].unique(), reverse=False)\n",
        "hist= Counter(data[class_col]) \n",
        "print(f'Total de instancias -> {data.shape[0]}')\n",
        "print(f'Distribución de clases -> {{item[0]:round(item[1]/len(data[class_col]), 3) for item in sorted(hist.items(), key=lambda x: x[0])}}')\n",
        "\n",
        "print(f'Categorías -> {categories}')\n",
        "print(f'Comentario de ejemplo -> {data[text_col][0]}')\n",
        "print(f'Categoría del comentario -> {data[class_col][0]}')\n",
        "\n",
        "fig = go.Figure(layout=go.Layout(height=400, width=600))\n",
        "fig.add_trace(go.Bar(x=categories, y=[hist[cat] for cat in categories]))\n",
        "fig.show()\n",
        "\n",
        "print('Done!')"
      ]
    },
    {
      "cell_type": "markdown",
      "metadata": {
        "id": "_-_EGWESoRsA"
      },
      "source": [
        "Finalmente, ejecute la siguiente casilla para crear los conjuntos de entrenamiento y validación que se utilizarán para entrenar y validar los modelos."
      ]
    },
    {
      "cell_type": "code",
      "execution_count": 19,
      "metadata": {
        "id": "NLK_nyK1oSAP"
      },
      "outputs": [
        {
          "name": "stdout",
          "output_type": "stream",
          "text": [
            "Done!\n"
          ]
        }
      ],
      "source": [
        "# obtener conjuntos de entrenamiento (90%) y validación (10%)\n",
        "seed = 0  # fijar random_state para reproducibilidad\n",
        "train, val = train_test_split(data, test_size=.1, stratify=data[class_col], random_state=seed)\n",
        "\n",
        "print('Done!')"
      ]
    },
    {
      "cell_type": "markdown",
      "metadata": {
        "id": "xQB9gdvrokzJ"
      },
      "source": [
        "### Implementación y configuración del modelo\n",
        "\n",
        "Con AutoGOAL podemos configurar el modelo facilmente pues solo necesitamos instanciar la clase AutomML. Lo más importante es elegir los tipos adecuados para datos de entrada y salida en nuestro modelo y la métrica de evaluación. En este caso:\n",
        "\n",
        "- entrada (input), una tupla de:\n",
        "    - MatrixContinuousDense -> una fila por instancia y una columna por variable.\n",
        "    - Supervised[VectorCategorical]) -> indica se trata de aprendizaje supervisado.\n",
        "\n",
        "- salida (output): VectorCategorical -> el elemento *i* representa la categoría asociada a la instancia *i*.\n",
        "\n",
        "Ejecute la siguiente casilla prestando atención a los comentarios adicionales."
      ]
    },
    {
      "cell_type": "code",
      "execution_count": 20,
      "metadata": {
        "id": "uZoQNW4PClt4"
      },
      "outputs": [
        {
          "name": "stdout",
          "output_type": "stream",
          "text": [
            "Done!\n"
          ]
        }
      ],
      "source": [
        "# configuraciones\n",
        "cfg = {}\n",
        "cfg['iterations'] = 1 # cantidad de iteraciones a realizar\n",
        "cfg['popsize'] = 50  # tamaño de la población\n",
        "cfg['search_timeout'] = 120  # tiempo máximo de búsqueda en segundos\n",
        "cfg['evaluation_timeout'] = 60  # tiempo máximo que empleará evaluando un pipeline en segundos\n",
        "cfg['memory'] = 20  # cantidad máxima de memoria a utilizar\n",
        "cfg['score_metric'] = f1_score  # métrica de evaluación\n",
        "\n",
        "search_kwargs=dict(\n",
        "    pop_size=cfg['popsize'],\n",
        "    search_timeout=cfg['search_timeout'],\n",
        "    evaluation_timeout=cfg['evaluation_timeout'],\n",
        "    memory_limit=cfg['memory'] * 1024 ** 3,\n",
        ")\n",
        "\n",
        "model = AutoML(\n",
        "    input=(MatrixContinuousDense, Supervised[VectorCategorical]),  # tipo datos de entrada\n",
        "    output=VectorCategorical,  # tipo datos de salida\n",
        "    \n",
        "    objectives=cfg['score_metric'],\n",
        "    search_algorithm=PESearch,  # algoritmo de búsqueda\n",
        "    registry=None,  # para incluir clases adicionales \n",
        "    \n",
        "    search_iterations=cfg['iterations'],\n",
        "    \n",
        "    include_filter=\".*\",  # indica qué módulos pueden incluirse en los pipelines evaluados\n",
        "    exclude_filter=None,  # indica módulos a excluir de los pipelines evaluados\n",
        "    \n",
        "    validation_split=0.3,  # porción de los datos de entrenamiento que AutoGOAL tomará para evaluar cada pipeline\n",
        "    cross_validation_steps=3,  # cantidad de particiones en la crossvalidación\n",
        "    cross_validation=\"mean\",  # tipo de agregación para los valores de la métrica en cada partición de la crossvalidación (promedio, mediana, etc.)\n",
        "    \n",
        "    random_state=None,  # semilla para el generador de números aleatorios\n",
        "    errors=\"warn\",  # tratamiento ante errores\n",
        "    **search_kwargs\n",
        ")\n",
        "\n",
        "# configurar loggers\n",
        "loggers = [ProgressLogger(), ConsoleLogger(), MemoryLogger(), CustomLogger(model, save_model=True, check_folder=\".\")]\n",
        "\n",
        "print('Done!')"
      ]
    },
    {
      "cell_type": "markdown",
      "metadata": {
        "id": "rRRPI2CzOCOo"
      },
      "source": [
        "<a name=\"sec:pre-proc\"></a>\n",
        "### Pre-procesamiento de los datos\n",
        "\n",
        "Antes de entrenar, debemos pre-procesar los datos. Esto dependerá de la tarea en particular, en este caso, comprende:\n",
        "\n",
        "- obtener vectores tf-idf correspondientes a cada ejemplo.\n",
        "\n",
        "- codificar las categorías como números utilizando [LabelEncoder](https://scikit-learn.org/stable/modules/generated/sklearn.preprocessing.LabelBinarizer.html) de [scikit-learn](https://scikit-learn.org/stable/). \n",
        "\n",
        "**Notar que:**\n",
        "\n",
        "- en dependencia de su implementación del extractor o del número de clases, deberá re-implementar esta sección para codificar los datos adecuadamente.\n",
        "\n",
        "Ejecute la siguiente casilla prestando atención a los comentarios explicativos."
      ]
    },
    {
      "cell_type": "markdown",
      "metadata": {
        "id": "4yoryqRsO8ik"
      },
      "source": [
        "#### Instanciar tf-idf vectorizer, etc."
      ]
    },
    {
      "cell_type": "code",
      "execution_count": 21,
      "metadata": {
        "id": "iNb1SPTMClt7"
      },
      "outputs": [
        {
          "name": "stdout",
          "output_type": "stream",
          "text": [
            "Done!\n"
          ]
        }
      ],
      "source": [
        "# instanciar TfidfVectorizer\n",
        "cfg['vectorizer'] = TfidfVectorizer(stop_words='english', max_features=10000)\n",
        "\n",
        "# instanciar LabelEncoder\n",
        "cfg['label_encoder'] = LabelEncoder()\n",
        "\n",
        "print('Done!')"
      ]
    },
    {
      "cell_type": "markdown",
      "metadata": {
        "id": "tuOwIoYjPLC8"
      },
      "source": [
        "#### Pre-procesamiento"
      ]
    },
    {
      "cell_type": "code",
      "execution_count": 22,
      "metadata": {
        "id": "4nlsy-9IClt-"
      },
      "outputs": [
        {
          "name": "stdout",
          "output_type": "stream",
          "text": [
            "Done!\n"
          ]
        }
      ],
      "source": [
        "# entrenar TfidfVectorizer\n",
        "cfg['vectorizer'].fit(train[text_col].to_list())\n",
        "\n",
        "# guardar TfidfVectorizer entrenado para su posterior uso (codificar nuevos datos).\n",
        "with open('vectorizer_reviews.pkl', 'wb') as f:\n",
        "    pickle.dump(cfg['vectorizer'], f)\n",
        "\n",
        "# entrenar LabelEncoder\n",
        "cfg['label_encoder'].fit(train[class_col])\n",
        "\n",
        "# guardar LabelEncoder entrenado para su posterior uso (codificar nuevos datos).\n",
        "with open('label_encoder_reviews.pkl', 'wb') as f:\n",
        "    pickle.dump(cfg['label_encoder'], f)\n",
        "\n",
        "# obtener representaciones tf-idf correspondientes\n",
        "train_tfidf = cfg['vectorizer'].transform(train[text_col])\n",
        "val_tfidf = cfg['vectorizer'].transform(val[text_col])\n",
        "\n",
        "# formatear adecuadamente dado que la salida de TfidfVectorizer es de tipo scipy.sparse.csr.csr_matrix.\n",
        "# no que AutoGOAL puede procesar scipy.sparse.csr.csr_matrix al entrenar, pero no necesariamente al predecir \n",
        "# por lo que se sugiere formatear siempre\n",
        "train_tfidf = train_tfidf.todense() \n",
        "val_tfidf = val_tfidf.todense()\n",
        "\n",
        "# codificar labels\n",
        "train_labels = cfg['label_encoder'].transform(train[class_col])\n",
        "val_labels = cfg['label_encoder'].transform(val[class_col])\n",
        "\n",
        "print('Done!')"
      ]
    },
    {
      "cell_type": "markdown",
      "metadata": {
        "id": "5rn4Poq2R4UX"
      },
      "source": [
        "### Entrenamiento del modelo\n",
        "\n",
        "Por último es necesario \"entrenar el modelo\", que en este caso significa iniciar la búsqueda.\n",
        "\n"
      ]
    },
    {
      "cell_type": "code",
      "execution_count": 23,
      "metadata": {
        "id": "-J2Rf7dvXh7m"
      },
      "outputs": [
        {
          "data": {
            "text/html": [
              "<style>\n",
              "</style>\n",
              "<div class=\"enlighten\">\n",
              "  <div class=\"enlighten-bar\">\n",
              "    <pre>Current Gen  14%|██████▊                                         |  7/50 [02:35&lt;15:53, 0.05 evals/s]</pre>\n",
              "  </div>\n",
              "  <div class=\"enlighten-bar\">\n",
              "    <pre>Best: 0.810  14%|██████▊                                         |  7/50 [02:35&lt;15:53, 0.05 evals/s]</pre>\n",
              "  </div>\n",
              "</div>\n"
            ],
            "text/plain": [
              "<IPython.core.display.HTML object>"
            ]
          },
          "metadata": {},
          "output_type": "display_data"
        },
        {
          "name": "stdout",
          "output_type": "stream",
          "text": [
            "Starting search: generations=1\n",
            "\u001b[1m\u001b[97mNew generation started\u001b[0m\n",
            "\u001b[34mgenerations=1\u001b[0m \u001b[34melapsed=0:00:00\u001b[0m \u001b[34mremaining=0:00:00\u001b[0m\n",
            "\u001b[1m\u001b[97mEvaluating pipeline:\u001b[0m\n",
            "Pipeline(\n",
            "    algorithms=[MultinomialNB(fit_prior=True)],\n",
            "    input_types=(\n",
            "        Tensor[2, Continuous, Dense],\n",
            "        Supervised[Tensor[1, Categorical, Dense]],\n",
            "    ),\n",
            ")\n",
            "\u001b[34mFitness=0.754\u001b[0m\n",
            "\u001b[32mNew best: Pipeline(\n",
            "    algorithms=[MultinomialNB(fit_prior=True)],\n",
            "    input_types=(\n",
            "        Tensor[2, Continuous, Dense],\n",
            "        Supervised[Tensor[1, Categorical, Dense]],\n",
            "    ),\n",
            ") with score (0.7543424317617865,)\u001b[0m\n",
            "\u001b[34m0 previously optimal solutions are now sub-optimal.\u001b[0m\n",
            "\u001b[32m1 optimal solutions so far. Improved: [(0.7543424317617865,)]. Previous [].\u001b[0m\n",
            "\u001b[1m\u001b[97mEvaluating pipeline:\u001b[0m\n",
            "Pipeline(\n",
            "    algorithms=[\n",
            "        IncrementalPCA(whiten=False),\n",
            "        FactorAnalysis(iterated_power=1, svd_method=\"randomized\", tol=-0.093),\n",
            "        LogisticRegression(\n",
            "            C=0.005, dual=False, fit_intercept=False, multi_class=\"ovr\", penalty=\"l2\"\n",
            "        ),\n",
            "    ],\n",
            "    input_types=(\n",
            "        Tensor[2, Continuous, Dense],\n",
            "        Supervised[Tensor[1, Categorical, Dense]],\n",
            "    ),\n",
            ")\n",
            "\u001b[34mFitness=0.515\u001b[0m\n",
            "\u001b[1m\u001b[97mEvaluating pipeline:\u001b[0m\n",
            "Pipeline(\n",
            "    algorithms=[\n",
            "        PassiveAggressiveClassifier(\n",
            "            C=9.991,\n",
            "            average=False,\n",
            "            early_stopping=True,\n",
            "            fit_intercept=True,\n",
            "            n_iter_no_change=9,\n",
            "            shuffle=True,\n",
            "            tol=-0.004271806753033544,\n",
            "            validation_fraction=0.006,\n",
            "        )\n",
            "    ],\n",
            "    input_types=(\n",
            "        Tensor[2, Continuous, Dense],\n",
            "        Supervised[Tensor[1, Categorical, Dense]],\n",
            "    ),\n",
            ")\n",
            "\u001b[31m(!) Error evaluating pipeline: Exceded allowed time for execution. Any restricted function should end its excution in a timespan of 60 seconds.\u001b[0m\n",
            "\u001b[34mFitness=-inf\u001b[0m\n",
            "\u001b[1m\u001b[97mEvaluating pipeline:\u001b[0m\n",
            "Pipeline(\n",
            "    algorithms=[\n",
            "        LatentDirichletAllocation(),\n",
            "        SplineTransformer(\n",
            "            degree=5,\n",
            "            extrapolation=\"constant\",\n",
            "            include_bias=False,\n",
            "            knots=\"quantile\",\n",
            "            n_knots=2,\n",
            "            order=\"c\",\n",
            "        ),\n",
            "        SVC(\n",
            "            C=2.1464868176621756,\n",
            "            break_ties=False,\n",
            "            cache_size=1,\n",
            "            coef0=0.992,\n",
            "            decision_function_shape=\"ovo\",\n",
            "            degree=4,\n",
            "            gamma=\"scale\",\n",
            "            probability=False,\n",
            "            shrinking=False,\n",
            "        ),\n",
            "    ],\n",
            "    input_types=(\n",
            "        Tensor[2, Continuous, Dense],\n",
            "        Supervised[Tensor[1, Categorical, Dense]],\n",
            "    ),\n",
            ")\n",
            "\u001b[34mFitness=0.610\u001b[0m\n",
            "\u001b[1m\u001b[97mEvaluating pipeline:\u001b[0m\n",
            "Pipeline(\n",
            "    algorithms=[\n",
            "        PassiveAggressiveClassifier(\n",
            "            C=-4.020886432298367,\n",
            "            average=False,\n",
            "            early_stopping=False,\n",
            "            fit_intercept=False,\n",
            "            n_iter_no_change=1,\n",
            "            shuffle=False,\n",
            "            tol=-0.005,\n",
            "            validation_fraction=0.6250009195466848,\n",
            "        )\n",
            "    ],\n",
            "    input_types=(\n",
            "        Tensor[2, Continuous, Dense],\n",
            "        Supervised[Tensor[1, Categorical, Dense]],\n",
            "    ),\n",
            ")\n",
            "\u001b[34mFitness=0.547\u001b[0m\n",
            "\u001b[1m\u001b[97mEvaluating pipeline:\u001b[0m\n",
            "Pipeline(\n",
            "    algorithms=[\n",
            "        OneHotEncoder(categories=\"auto\", handle_unknown=\"ignore\", sparse=False),\n",
            "        DecisionTreeClassifier(\n",
            "            ccp_alpha=0.992,\n",
            "            min_impurity_decrease=0.888373211659748,\n",
            "            min_samples_split=2,\n",
            "            min_weight_fraction_leaf=0.4584432960054946,\n",
            "        ),\n",
            "    ],\n",
            "    input_types=(\n",
            "        Tensor[2, Continuous, Dense],\n",
            "        Supervised[Tensor[1, Categorical, Dense]],\n",
            "    ),\n",
            ")\n",
            "\u001b[34mFitness=0.000\u001b[0m\n",
            "\u001b[1m\u001b[97mEvaluating pipeline:\u001b[0m\n",
            "Pipeline(algorithms=[<autogoal_contrib.wrappers.DenseClassifier object at 0x7f23584ae1c0>], input_types=(Tensor[2, Continuous, Dense], Supervised[Tensor[1, Categorical, Dense]]))\n",
            "\u001b[34mFitness=0.810\u001b[0m\n",
            "\u001b[32mNew best: Pipeline(algorithms=[<autogoal_contrib.wrappers.DenseClassifier object at 0x7f23584ae1c0>], input_types=(Tensor[2, Continuous, Dense], Supervised[Tensor[1, Categorical, Dense]])) with score (0.8100208768267223,)\u001b[0m\n",
            "\u001b[34m0 previously optimal solutions are now sub-optimal.\u001b[0m\n",
            "\u001b[32m1 optimal solutions so far. Improved: [(0.8100208768267223,)]. Previous [(0.7543424317617865,)].\u001b[0m\n",
            "\u001b[1m\u001b[97mSearch completed:\u001b[0m \u001b[1m\u001b[97mbest_fn_0=(0.8100208768267223,), best_0=\n",
            "Pipeline(algorithms=[<autogoal_contrib.wrappers.DenseClassifier object at 0x7f23584ae1c0>], input_types=(Tensor[2, Continuous, Dense], Supervised[Tensor[1, Categorical, Dense]]))\u001b[0m\n",
            "Done!\n"
          ]
        }
      ],
      "source": [
        "model.fit(train_tfidf, train_labels, logger=loggers)\n",
        "\n",
        "print('Done!')"
      ]
    },
    {
      "cell_type": "markdown",
      "metadata": {
        "id": "DLh4KHHgX_bw"
      },
      "source": [
        "Finalmente, guardamos el modelo, este contendrá el mejor pipeline encontrado."
      ]
    },
    {
      "cell_type": "code",
      "execution_count": 24,
      "metadata": {
        "id": "XBnxcf0WSj4h"
      },
      "outputs": [
        {
          "ename": "AttributeError",
          "evalue": "'AutoML' object has no attribute 'save_folder'",
          "output_type": "error",
          "traceback": [
            "\u001b[0;31m---------------------------------------------------------------------------\u001b[0m",
            "\u001b[0;31mAttributeError\u001b[0m                            Traceback (most recent call last)",
            "Cell \u001b[0;32mIn[24], line 3\u001b[0m\n\u001b[1;32m      1\u001b[0m \u001b[38;5;28;01mfrom\u001b[39;00m \u001b[38;5;21;01mpathlib\u001b[39;00m \u001b[38;5;28;01mimport\u001b[39;00m Path\n\u001b[0;32m----> 3\u001b[0m \u001b[43mmodel\u001b[49m\u001b[38;5;241;43m.\u001b[39;49m\u001b[43msave_folder\u001b[49m(Path(\u001b[38;5;124m\"\u001b[39m\u001b[38;5;124mmodel_reviews\u001b[39m\u001b[38;5;124m\"\u001b[39m)) \n\u001b[1;32m      4\u001b[0m \u001b[38;5;28mprint\u001b[39m(\u001b[38;5;124m'\u001b[39m\u001b[38;5;124mDone!\u001b[39m\u001b[38;5;124m'\u001b[39m)\n",
            "\u001b[0;31mAttributeError\u001b[0m: 'AutoML' object has no attribute 'save_folder'"
          ]
        }
      ],
      "source": [
        "from pathlib import Path\n",
        "\n",
        "model.folder_save(Path(\"model_reviews\")) \n",
        "print('Done!')"
      ]
    },
    {
      "cell_type": "markdown",
      "metadata": {
        "id": "n_9A1ZkyfCq4"
      },
      "source": [
        "### Evaluación del modelo\n",
        "Luego de entrenado el modelo, podemos evaluar su desempeño en los conjuntos de entrenamiento y validación.\n",
        "\n",
        "Ejecute la siguiente casilla para evaluar el modelo en el conjunto de entrenamiento."
      ]
    },
    {
      "cell_type": "code",
      "execution_count": null,
      "metadata": {
        "id": "Uh_wgiOfXOWZ"
      },
      "outputs": [],
      "source": [
        "# predecir y evaluar el modelo en el conjunto de entrenamiento\n",
        "print('==== Evaluación conjunto de entrenamiento ====')\n",
        "data = train\n",
        "true_labels = data[class_col]\n",
        "\n",
        "m_pred = predict_model(model, cfg, data[text_col].to_list(), pref='m')\n",
        "\n",
        "# el nombre de los campos dependerá de pref al llamar a predic_model y las clases. Ver comentarios en la definición de la función\n",
        "evaluate_model(true_labels, m_pred['labels_m'])  \n",
        "\n",
        "print('Done!')"
      ]
    },
    {
      "cell_type": "markdown",
      "metadata": {
        "id": "g2hZlaFL7omz"
      },
      "source": [
        "Ejecute la siguiente casilla para evaluar el modelo en el conjunto de validación. Compare los resultados."
      ]
    },
    {
      "cell_type": "code",
      "execution_count": null,
      "metadata": {
        "id": "O1vinOtO7o-h"
      },
      "outputs": [],
      "source": [
        "# predecir y evaluar el modelo en el conjunto de validación\n",
        "print('==== Evaluación conjunto de validacióm ====')\n",
        "data = val\n",
        "true_labels = data[class_col]\n",
        "\n",
        "m_pred = predict_model(model, cfg, data[text_col].to_list(), pref='m')\n",
        "\n",
        "# el nombre de los campos dependerá de pref al llamar a predic_model y las clases. Ver comentarios en la definición de la función\n",
        "evaluate_model(true_labels, m_pred['labels_m'])  \n",
        "\n",
        "print('Done!')"
      ]
    },
    {
      "cell_type": "markdown",
      "metadata": {
        "id": "4-jAoCZGPqCj"
      },
      "source": [
        "## Predicción de nuevos datos\n",
        "\n",
        "Una vez entrenado el modelo, podemos evaluar su rendimiento en datos no utilizados durante el entrenamiento o emplearlo para predecir nuevas instancias. En cualquier caso, se debe cuidar realizar los pasos de pre-procesamiento necesarios según el caso. En el ejemplo, utilizaremos la porción de prueba preparada inicialmente.\n",
        "\n",
        "**Notar que**:\n",
        "-  se cargará el modelo previamente entrenado y guardado, estableciendo las configuraciones pertinentes.\n",
        "\n",
        "- si disponemos de un modelo guardado, podremos ejecutar directamente esta parte del cuaderno. Sin embargo, será necesario al menos ejecutar previamente la sección [Instalación de librerías...](#sec:setup)\n"
      ]
    },
    {
      "cell_type": "markdown",
      "metadata": {
        "id": "-ism0f1cbbH_"
      },
      "source": [
        "### Cargar otros elementos necesarios \n",
        "\n",
        "Antes de predecir nuevos datos, también es preciso cargar otros elementos necesarios como el codificador para las etiquetas, etc.\n",
        "\n",
        "Ejecute la siguiente casilla."
      ]
    },
    {
      "cell_type": "code",
      "execution_count": null,
      "metadata": {
        "id": "6DriOyJkbbd5"
      },
      "outputs": [],
      "source": [
        "# configuraciones\n",
        "text_col = 'Phrase'  # columna del dataframe que contiene el texto (depende del formato de los datos)\n",
        "class_col = 'Sentiment'  # columna del dataframe que contiene la clase (depende del formato de los datos)\n",
        "\n",
        "cfg = {}  # diccionario para agrupar configuraciones y variables para su posterior uso\n",
        "\n",
        "# cargar el LabelEncoder\n",
        "with open('label_encoder_reviews.pkl', 'rb') as f:\n",
        "    cfg['label_encoder'] = pickle.load(f)\n",
        "\n",
        "# cargar TfidfVectorizer\n",
        "with open('vectorizer_reviews.pkl', 'rb') as f:\n",
        "    cfg['vectorizer'] = pickle.load(f)\n",
        "\n",
        "print('Done!')"
      ]
    },
    {
      "cell_type": "markdown",
      "metadata": {
        "id": "I4Fmkq3BPyvf"
      },
      "source": [
        "### Instanciar modelo pre-entrenado\n",
        "\n",
        "Para predecir nuevas instancias es preciso cargar el modelo previamente entrenado.\n",
        "\n",
        "Ejecute la siguiente casilla para cargar el pipeline."
      ]
    },
    {
      "cell_type": "code",
      "execution_count": null,
      "metadata": {
        "id": "lcFQIegh7p-a"
      },
      "outputs": [],
      "source": [
        "# cargar mejor pipeline\n",
        "from pathlib import Path\n",
        "\n",
        "model = None\n",
        "model = AutoML.folder_load(Path(\"model_reviews\")) \n",
        "\n",
        "print('Done!')"
      ]
    },
    {
      "cell_type": "markdown",
      "metadata": {
        "id": "3H4me-h3eJLh"
      },
      "source": [
        "### Predecir nuevos datos\n",
        "\n",
        "Con el modelo cargado, es posible utilizarlo para analizar nuevos datos. \n",
        "\n",
        "Ejecute las siguientes casillas para:\n",
        "\n",
        "(a) categorizar un texto de muestra.\n",
        "\n",
        "(b) cargar nuevos datos, categorizarlos y mostrar algunas estadísticas sobre el corpus."
      ]
    },
    {
      "cell_type": "code",
      "execution_count": null,
      "metadata": {
        "id": "njoBIOJ-d-yg"
      },
      "outputs": [],
      "source": [
        "# ejemplo de texto a clasificar en formato [text 1, text 2, ..., text n]\n",
        "text = ['Brian De Palma\\'s undeniable virtuosity can\\'t really camouflage the fact that his plot here is a thinly disguised\\\n",
        "        \\\"Psycho\\\" carbon copy, but he does provide a genuinely terrifying climax. His \"Blow Out\", made the next year, was an improvement.']\n",
        "\n",
        "# predecir los nuevos datos.\n",
        "m_pred = predict_model(model, cfg, text, pref='m')\n",
        "\n",
        "# el nombre de los campos dependerá de pref al llamar a predic_model y las clases. Ver comentarios en la definición de la función\n",
        "pred_labels = m_pred['labels_m'].values[0]\n",
        "\n",
        "print(f'La categoría del review es -> {pred_labels}')\n",
        "\n",
        "print('Done!')"
      ]
    },
    {
      "cell_type": "markdown",
      "metadata": {
        "id": "soc1PQnEeZon"
      },
      "source": [
        "También podemos predecir nuevos datos cargados desde un fichero. \n",
        "\n",
        "Ejecute la siguiente casilla, descomentando las instrucciones necesarias según sea el caso."
      ]
    },
    {
      "cell_type": "code",
      "execution_count": null,
      "metadata": {
        "id": "Sz8QkhPeeTlX"
      },
      "outputs": [],
      "source": [
        "# descomente las siguientes 3 líneas para leer datos desde Google Drive, asumiendo que se trata de un fichero llamado review.csv localizado dentro de una carpeta llamada 'Datos' en su Google Drive\n",
        "#from google.colab import drive\n",
        "#drive.mount('/content/drive')\n",
        "#path = '/content/drive/MyDrive/Datos/ejemplo_review_train.csv'\n",
        "\n",
        "# descomente la siguiente línea para leer los datos desde un archivo local, por ejemplo, asumiendo que se encuentra dentro de un directorio llamado sample_data\n",
        "#path = './sample_data/ejemplo_review_train.csv'\n",
        "\n",
        "# descomente la siguiente línea para leer datos desde un URL\n",
        "path = 'https://github.com/TeachingTextMining/TextClassification/raw/main/01-SA-Pipeline/sample_data/ejemplo_review_test.csv'\n",
        "\n",
        "# leer los datos\n",
        "new_data = pd.read_csv(path, sep=',')\n",
        "\n",
        "print('Done!')"
      ]
    },
    {
      "cell_type": "markdown",
      "metadata": {
        "id": "4UTCvP3QecrH"
      },
      "source": [
        "Ejecute la siguiente celda para predecir los datos y mostrar algunas estadísticas sobre el análisis realizado."
      ]
    },
    {
      "cell_type": "code",
      "execution_count": null,
      "metadata": {
        "id": "9VGbyGdRebLH"
      },
      "outputs": [],
      "source": [
        "# predecir los datos de prueba\n",
        "m_pred = predict_model(model, cfg, new_data[text_col].to_list(), pref='m')\n",
        "pred_labels = m_pred['labels_m']\n",
        "\n",
        "# obtener algunas estadísticas sobre la predicción en el conjunto de pruebas\n",
        "categories = sorted(pred_labels.unique(), reverse=False)\n",
        "hist = Counter(pred_labels.values) \n",
        "\n",
        "fig = go.Figure(layout=go.Layout(height=400, width=600))\n",
        "fig.add_trace(go.Bar(x=categories, y=[hist[cat] for cat in categories]))\n",
        "fig.show()\n",
        "\n",
        "print('Done!')"
      ]
    },
    {
      "cell_type": "code",
      "execution_count": null,
      "metadata": {
        "id": "ZfWPYGwyefkH"
      },
      "outputs": [],
      "source": []
    }
  ],
  "metadata": {
    "colab": {
      "collapsed_sections": [],
      "include_colab_link": true,
      "name": "06-TextClassification-with-AutoGOAL.ipynb",
      "private_outputs": true,
      "provenance": [],
      "toc_visible": true
    },
    "kernelspec": {
      "display_name": "Python 3",
      "language": "python",
      "name": "python3"
    },
    "language_info": {
      "codemirror_mode": {
        "name": "ipython",
        "version": 3
      },
      "file_extension": ".py",
      "mimetype": "text/x-python",
      "name": "python",
      "nbconvert_exporter": "python",
      "pygments_lexer": "ipython3",
      "version": "3.9.13"
    }
  },
  "nbformat": 4,
  "nbformat_minor": 0
}
